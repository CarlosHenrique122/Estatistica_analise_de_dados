{
  "nbformat": 4,
  "nbformat_minor": 0,
  "metadata": {
    "colab": {
      "provenance": [],
      "authorship_tag": "ABX9TyPVFyWdfNaM6BIeyU66XLC8",
      "include_colab_link": true
    },
    "kernelspec": {
      "name": "python3",
      "display_name": "Python 3"
    },
    "language_info": {
      "name": "python"
    }
  },
  "cells": [
    {
      "cell_type": "markdown",
      "metadata": {
        "id": "view-in-github",
        "colab_type": "text"
      },
      "source": [
        "<a href=\"https://colab.research.google.com/github/CarlosHenrique122/Estatistica_analise_de_dados/blob/main/Medidas%20de%20tendencia%20central.ipynb\" target=\"_parent\"><img src=\"https://colab.research.google.com/assets/colab-badge.svg\" alt=\"Open In Colab\"/></a>"
      ]
    },
    {
      "cell_type": "markdown",
      "source": [
        "# Medidas de tendência central"
      ],
      "metadata": {
        "id": "1wvtXsFReo7F"
      }
    },
    {
      "cell_type": "markdown",
      "source": [
        "**Média**"
      ],
      "metadata": {
        "id": "kNrYhDz5de_h"
      }
    },
    {
      "cell_type": "markdown",
      "source": [
        "*Como calcular a média : soma de todos elementos / número de elementos no array* "
      ],
      "metadata": {
        "id": "EaMNqP6Or3Fp"
      }
    },
    {
      "cell_type": "code",
      "execution_count": 54,
      "metadata": {
        "colab": {
          "base_uri": "https://localhost:8080/"
        },
        "id": "pEDjHzmvZsvP",
        "outputId": "e5afa677-9b4f-4d85-98da-ccc4dcb11a02"
      },
      "outputs": [
        {
          "output_type": "stream",
          "name": "stdout",
          "text": [
            "[ 0  1  2  3  4  5  6  7  8  9 10 11 12 13 14 15 16 17 18 19 20]\n"
          ]
        }
      ],
      "source": [
        "import numpy as np\n",
        "import statistics as st\n",
        "\n",
        "x = np.arange(0,21)\n",
        "\n",
        "print(x)"
      ]
    },
    {
      "cell_type": "code",
      "source": [
        "media = np.median(x) # Calcula a média do array que acabamos de criar usando o numpy"
      ],
      "metadata": {
        "id": "ewEdN3uPgyOk"
      },
      "execution_count": null,
      "outputs": []
    },
    {
      "cell_type": "code",
      "source": [
        "media2 = st.median(x) # Calcula a média do array que acabamos de criar,usando o statistics"
      ],
      "metadata": {
        "id": "18ftL-Gso7C6"
      },
      "execution_count": null,
      "outputs": []
    },
    {
      "cell_type": "markdown",
      "source": [
        "**Moda**"
      ],
      "metadata": {
        "id": "f1liUy2BqJX9"
      }
    },
    {
      "cell_type": "markdown",
      "source": [
        "*Como calcular a moda : verifique qual elemento mais se repetiu em seu array*"
      ],
      "metadata": {
        "id": "jpJry4IHsdAm"
      }
    },
    {
      "cell_type": "code",
      "source": [
        "y = np.array([0,1,1,2,2,2,3,4,5])\n",
        "\n",
        "moda = st.mode(y) # Calcula a moda do nosso array usando o statistics"
      ],
      "metadata": {
        "id": "zIvun1WIqL01"
      },
      "execution_count": null,
      "outputs": []
    },
    {
      "cell_type": "markdown",
      "source": [
        "**Mediana**"
      ],
      "metadata": {
        "id": "jaFVn7G5rYrY"
      }
    },
    {
      "cell_type": "markdown",
      "source": [
        "*Como calcular a mediana : Verifique o elemento que está inserido entre os dois elementos na metade do seu array*"
      ],
      "metadata": {
        "id": "IJZk4vsNsms8"
      }
    },
    {
      "cell_type": "code",
      "source": [
        "z = np.arange(0,16)\n",
        "\n",
        "mediana = st.mean(z) # Calcula a mediana do nosso array usando o statistics"
      ],
      "metadata": {
        "id": "zIgYkwH9raAS",
        "outputId": "cbf12c00-ea34-4d65-f286-1fe3b319dece",
        "colab": {
          "base_uri": "https://localhost:8080/"
        }
      },
      "execution_count": 68,
      "outputs": [
        {
          "output_type": "stream",
          "name": "stdout",
          "text": [
            "7\n"
          ]
        }
      ]
    }
  ]
}