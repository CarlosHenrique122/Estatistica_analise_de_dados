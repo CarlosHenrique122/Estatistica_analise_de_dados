{
  "nbformat": 4,
  "nbformat_minor": 0,
  "metadata": {
    "colab": {
      "provenance": [],
      "authorship_tag": "ABX9TyNDZF45PVdMCKF/tXEmk56b",
      "include_colab_link": true
    },
    "kernelspec": {
      "name": "python3",
      "display_name": "Python 3"
    },
    "language_info": {
      "name": "python"
    }
  },
  "cells": [
    {
      "cell_type": "markdown",
      "metadata": {
        "id": "view-in-github",
        "colab_type": "text"
      },
      "source": [
        "<a href=\"https://colab.research.google.com/github/CarlosHenrique122/Estatistica_analise_de_dados/blob/main/Desvios_e_variancias.ipynb\" target=\"_parent\"><img src=\"https://colab.research.google.com/assets/colab-badge.svg\" alt=\"Open In Colab\"/></a>"
      ]
    },
    {
      "cell_type": "markdown",
      "source": [
        "# Variâncias"
      ],
      "metadata": {
        "id": "G3p2U4lznXJz"
      }
    },
    {
      "cell_type": "markdown",
      "source": [
        "**Como calcular a variância populacional de um conjunto de elementos :**\n",
        "\n",
        "*(elem1 - média populacional)* elevado a 2\n",
        "              +\n",
        "*(elem2 - média populacional)* elevado a 2\n",
        "\n",
        "*dividido pelo número de elementos no conjunto*"
      ],
      "metadata": {
        "id": "Pf4wsT0MnVjw"
      }
    },
    {
      "cell_type": "code",
      "source": [
        "import numpy as np\n",
        "import statistics as st"
      ],
      "metadata": {
        "id": "ybg2dtAvoxcE"
      },
      "execution_count": 1,
      "outputs": []
    },
    {
      "cell_type": "code",
      "source": [
        "array = np.arange(1,11)\n",
        "print(len(array))"
      ],
      "metadata": {
        "colab": {
          "base_uri": "https://localhost:8080/"
        },
        "id": "PWTnc3Hvp-n_",
        "outputId": "a961b862-2589-42a3-be7a-c9f9c7434991"
      },
      "execution_count": 20,
      "outputs": [
        {
          "output_type": "stream",
          "name": "stdout",
          "text": [
            "10\n"
          ]
        }
      ]
    },
    {
      "cell_type": "markdown",
      "source": [
        "**Calculando a variação populacional :**\n",
        "\n",
        "\n"
      ],
      "metadata": {
        "id": "qilHEQF1qj4C"
      }
    },
    {
      "cell_type": "code",
      "source": [
        "varPopulation = st.pvariance(array)\n",
        "print(varPopulation)"
      ],
      "metadata": {
        "colab": {
          "base_uri": "https://localhost:8080/"
        },
        "id": "BDylQjsyqjR_",
        "outputId": "5393fae3-b4a7-415b-c01e-f0bd6f6c8ac4"
      },
      "execution_count": 31,
      "outputs": [
        {
          "output_type": "stream",
          "name": "stdout",
          "text": [
            "8\n"
          ]
        }
      ]
    }
  ]
}