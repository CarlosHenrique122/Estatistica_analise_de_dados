{
  "nbformat": 4,
  "nbformat_minor": 0,
  "metadata": {
    "colab": {
      "provenance": [],
      "authorship_tag": "ABX9TyP0rrH8MgeBWJs8Nf9virCC",
      "include_colab_link": true
    },
    "kernelspec": {
      "name": "python3",
      "display_name": "Python 3"
    },
    "language_info": {
      "name": "python"
    }
  },
  "cells": [
    {
      "cell_type": "markdown",
      "metadata": {
        "id": "view-in-github",
        "colab_type": "text"
      },
      "source": [
        "<a href=\"https://colab.research.google.com/github/CarlosHenrique122/Estatistica_analise_de_dados/blob/main/medidas_de_tendencia_central.ipynb\" target=\"_parent\"><img src=\"https://colab.research.google.com/assets/colab-badge.svg\" alt=\"Open In Colab\"/></a>"
      ]
    },
    {
      "cell_type": "markdown",
      "source": [
        "# Medidas de tendência central"
      ],
      "metadata": {
        "id": "1wvtXsFReo7F"
      }
    },
    {
      "cell_type": "markdown",
      "source": [
        "**Média**"
      ],
      "metadata": {
        "id": "kNrYhDz5de_h"
      }
    },
    {
      "cell_type": "markdown",
      "source": [
        "*Como calcular a média : soma de todos elementos / número de elementos no array* "
      ],
      "metadata": {
        "id": "EaMNqP6Or3Fp"
      }
    },
    {
      "cell_type": "code",
      "execution_count": null,
      "metadata": {
        "colab": {
          "base_uri": "https://localhost:8080/"
        },
        "id": "pEDjHzmvZsvP",
        "outputId": "56a32312-d58f-4715-969a-5ad27e41dd7d"
      },
      "outputs": [
        {
          "output_type": "stream",
          "name": "stdout",
          "text": [
            "[ 0  1  2  3  4  5  6  7  8  9 10 11 12 13 14 15 16 17 18 19 20]\n"
          ]
        }
      ],
      "source": [
        "import numpy as np\n",
        "import statistics as st\n",
        "\n",
        "x = np.arange(0,21)\n",
        "\n",
        "print(x)"
      ]
    },
    {
      "cell_type": "code",
      "source": [
        "media = np.median(x) # Calcula a média do array que acabamos de criar usando o numpy"
      ],
      "metadata": {
        "id": "ewEdN3uPgyOk"
      },
      "execution_count": null,
      "outputs": []
    },
    {
      "cell_type": "code",
      "source": [
        "media2 = st.median(x) # Calcula a média do array que acabamos de criar,usando o statistics"
      ],
      "metadata": {
        "id": "18ftL-Gso7C6"
      },
      "execution_count": null,
      "outputs": []
    },
    {
      "cell_type": "code",
      "source": [
        "print(\"Média usando o numpy :\",media)\n",
        "print(\"Média usando o statistics :\",media2)"
      ],
      "metadata": {
        "colab": {
          "base_uri": "https://localhost:8080/"
        },
        "id": "OAVQ4sHyt1_n",
        "outputId": "636c761a-0dac-43c5-dd98-a08aed52ab71"
      },
      "execution_count": null,
      "outputs": [
        {
          "output_type": "stream",
          "name": "stdout",
          "text": [
            "Média usando o numpy : 10.0\n",
            "Média usando o statistics : 10\n"
          ]
        }
      ]
    },
    {
      "cell_type": "markdown",
      "source": [
        "**Moda**"
      ],
      "metadata": {
        "id": "f1liUy2BqJX9"
      }
    },
    {
      "cell_type": "markdown",
      "source": [
        "*Como calcular a moda : verifique qual elemento mais se repetiu em seu array*"
      ],
      "metadata": {
        "id": "jpJry4IHsdAm"
      }
    },
    {
      "cell_type": "code",
      "source": [
        "y = np.array([0,1,1,2,2,2,3,4,5])\n",
        "\n",
        "moda = st.mode(y) # Calcula a moda do nosso array usando o statistics\n",
        "print(\"a moda do array é : \",moda)"
      ],
      "metadata": {
        "colab": {
          "base_uri": "https://localhost:8080/"
        },
        "id": "zIvun1WIqL01",
        "outputId": "c74114de-b1a5-42b0-a628-b00ddf4d6574"
      },
      "execution_count": null,
      "outputs": [
        {
          "output_type": "stream",
          "name": "stdout",
          "text": [
            "a moda do array é :  2\n"
          ]
        }
      ]
    },
    {
      "cell_type": "markdown",
      "source": [
        "**Mediana**"
      ],
      "metadata": {
        "id": "jaFVn7G5rYrY"
      }
    },
    {
      "cell_type": "markdown",
      "source": [
        "*Como calcular a mediana : Verifique o elemento que está inserido entre os dois elementos na metade do seu array*"
      ],
      "metadata": {
        "id": "IJZk4vsNsms8"
      }
    },
    {
      "cell_type": "code",
      "source": [
        "z = np.arange(0,16)\n",
        "\n",
        "mediana = st.mean(z) # Calcula a mediana do nosso array usando o statistics\n",
        "print(\"a mediana do array é : \",mediana)"
      ],
      "metadata": {
        "colab": {
          "base_uri": "https://localhost:8080/"
        },
        "id": "zIgYkwH9raAS",
        "outputId": "1550e41d-172f-4405-d136-fe89b29dece4"
      },
      "execution_count": null,
      "outputs": [
        {
          "output_type": "stream",
          "name": "stdout",
          "text": [
            "a mediana do array é :  7\n"
          ]
        }
      ]
    }
  ]
}