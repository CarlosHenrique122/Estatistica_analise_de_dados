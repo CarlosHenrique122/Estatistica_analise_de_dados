{
  "nbformat": 4,
  "nbformat_minor": 0,
  "metadata": {
    "colab": {
      "provenance": [],
      "authorship_tag": "ABX9TyPVFyWdfNaM6BIeyU66XLC8",
      "include_colab_link": true
    },
    "kernelspec": {
      "name": "python3",
      "display_name": "Python 3"
    },
    "language_info": {
      "name": "python"
    }
  },
  "cells": [
    {
      "cell_type": "markdown",
      "metadata": {
        "id": "view-in-github",
        "colab_type": "text"
      },
      "source": [
        "<a href=\"https://colab.research.google.com/github/CarlosHenrique122/Estatistica_analise_de_dados/blob/main/medidas_de_tendencia_central.ipynb\" target=\"_parent\"><img src=\"https://colab.research.google.com/assets/colab-badge.svg\" alt=\"Open In Colab\"/></a>"
      ]
    },
    {
      "cell_type": "markdown",
      "source": [
        "# Medidas de tendência central"
      ],
      "metadata": {
        "id": "1wvtXsFReo7F"
      }
    },
    {
      "cell_type": "markdown",
      "source": [
        "**Média**"
      ],
      "metadata": {
        "id": "kNrYhDz5de_h"
      }
    },
    {
      "cell_type": "markdown",
      "source": [
        "*Como calcular a média : soma de todos elementos / número de elementos no array* "
      ],
      "metadata": {
        "id": "EaMNqP6Or3Fp"
      }
    },
    {
      "cell_type": "code",
      "execution_count": null,
      "metadata": {
        "id": "pEDjHzmvZsvP"
      },
      "outputs": [],
      "source": [
        "import numpy as np\n",
        "import statistics as st\n",
        "\n",
        "x = np.arange(0,21)\n",
        "\n",
        "print(x)"
      ]
    },
    {
      "cell_type": "code",
      "source": [
        "media = np.median(x) # Calcula a média do array que acabamos de criar usando o numpy"
      ],
      "metadata": {
        "id": "ewEdN3uPgyOk"
      },
      "execution_count": null,
      "outputs": []
    },
    {
      "cell_type": "code",
      "source": [
        "media2 = st.median(x) # Calcula a média do array que acabamos de criar,usando o statistics"
      ],
      "metadata": {
        "id": "18ftL-Gso7C6"
      },
      "execution_count": null,
      "outputs": []
    },
    {
      "cell_type": "markdown",
      "source": [
        "**Moda**"
      ],
      "metadata": {
        "id": "f1liUy2BqJX9"
      }
    },
    {
      "cell_type": "markdown",
      "source": [
        "*Como calcular a moda : verifique qual elemento mais se repetiu em seu array*"
      ],
      "metadata": {
        "id": "jpJry4IHsdAm"
      }
    },
    {
      "cell_type": "code",
      "source": [
        "y = np.array([0,1,1,2,2,2,3,4,5])\n",
        "\n",
        "moda = st.mode(y) # Calcula a moda do nosso array usando o statistics"
      ],
      "metadata": {
        "id": "zIvun1WIqL01"
      },
      "execution_count": null,
      "outputs": []
    },
    {
      "cell_type": "markdown",
      "source": [
        "**Mediana**"
      ],
      "metadata": {
        "id": "jaFVn7G5rYrY"
      }
    },
    {
      "cell_type": "markdown",
      "source": [
        "*Como calcular a mediana : Verifique o elemento que está inserido entre os dois elementos na metade do seu array*"
      ],
      "metadata": {
        "id": "IJZk4vsNsms8"
      }
    },
    {
      "cell_type": "code",
      "source": [
        "z = np.arange(0,16)\n",
        "\n",
        "mediana = st.mean(z) # Calcula a mediana do nosso array usando o statistics"
      ],
      "metadata": {
        "id": "zIgYkwH9raAS"
      },
      "execution_count": null,
      "outputs": []
    }
  ]
}